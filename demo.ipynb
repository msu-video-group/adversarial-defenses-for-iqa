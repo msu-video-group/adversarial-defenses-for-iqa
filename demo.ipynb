{
 "cells": [
  {
   "cell_type": "markdown",
   "id": "9d6423b4-9de0-47fc-abf0-adbe072bbee2",
   "metadata": {},
   "source": [
    "This notebook shows example of testing \"JPEG\" defense on Koncept metric and three attacks (['cadv', 'fgsm', 'uap'])\n",
    "* metrics folder contains all scripts\n",
    "* sample_data folder contains adversarial images for further processing using defense\n",
    "* res folder contains results of code execution "
   ]
  },
  {
   "cell_type": "code",
   "execution_count": 1,
   "id": "e156a7ca-c077-46f8-8914-202173bcb5d7",
   "metadata": {},
   "outputs": [],
   "source": [
    "import warnings\n",
    "warnings.filterwarnings('ignore')\n",
    "import gdown\n",
    "import zipfile"
   ]
  },
  {
   "cell_type": "code",
   "execution_count": 2,
   "id": "f387dbc9-61d2-428a-a38a-07696ab4639b",
   "metadata": {},
   "outputs": [
    {
     "name": "stderr",
     "output_type": "stream",
     "text": [
      "Downloading...\n",
      "From (original): https://drive.google.com/uc?id=1p-aUCzq0_TU0txApohFCQxcvCueEgqEr\n",
      "From (redirected): https://drive.google.com/uc?id=1p-aUCzq0_TU0txApohFCQxcvCueEgqEr&confirm=t&uuid=e05a6860-5b68-4f44-9485-d7a0987e33f2\n",
      "To: D:\\NIPS_code\\sample_data.zip\n",
      "100%|███████████████████████████████████████████████████████████████████████████████| 441M/441M [00:43<00:00, 10.2MB/s]\n"
     ]
    },
    {
     "data": {
      "text/plain": [
       "'sample_data.zip'"
      ]
     },
     "execution_count": 2,
     "metadata": {},
     "output_type": "execute_result"
    }
   ],
   "source": [
    "url = 'https://drive.google.com/uc?id=1p-aUCzq0_TU0txApohFCQxcvCueEgqEr'\n",
    "output = 'sample_data.zip'\n",
    "gdown.download(url, output, quiet=False)"
   ]
  },
  {
   "cell_type": "code",
   "execution_count": 3,
   "id": "5e6e4e8b-6743-44ee-add3-3231f880c932",
   "metadata": {},
   "outputs": [],
   "source": [
    "with zipfile.ZipFile(\"sample_data.zip\",\"r\") as zip_ref:\n",
    "    zip_ref.extractall(\"./\")"
   ]
  },
  {
   "cell_type": "code",
   "execution_count": 4,
   "id": "fbb3df63-8421-4dd9-b37b-6f2ec83b1406",
   "metadata": {},
   "outputs": [
    {
     "name": "stdout",
     "output_type": "stream",
     "text": [
      "D:\\NIPS_code\\metrics\n"
     ]
    }
   ],
   "source": [
    "cd metrics"
   ]
  },
  {
   "cell_type": "code",
   "execution_count": 5,
   "id": "c0817086-a155-428a-8e22-3e5e3bfaa4c2",
   "metadata": {},
   "outputs": [],
   "source": [
    "from subjects.koncept.src.model import MetricModel"
   ]
  },
  {
   "cell_type": "code",
   "execution_count": 6,
   "id": "60aabd05-6cde-41b1-8229-dde310b30f58",
   "metadata": {},
   "outputs": [],
   "source": [
    "model = MetricModel(device='cpu', model_path='../sample_data/KonCept512.pth', backbone_path='../sample_data/inceptionresnetv2-520b38e4.pth')"
   ]
  },
  {
   "cell_type": "code",
   "execution_count": 7,
   "id": "1b29f750-ebb1-4b24-8823-06399ff61162",
   "metadata": {},
   "outputs": [
    {
     "name": "stdout",
     "output_type": "stream",
     "text": [
      "D:\\NIPS_code\\metrics\\defences\n"
     ]
    }
   ],
   "source": [
    "cd defences"
   ]
  },
  {
   "cell_type": "code",
   "execution_count": 8,
   "id": "9a539aa1-1bba-4115-8a1d-08ed7dcaaa5c",
   "metadata": {},
   "outputs": [
    {
     "name": "stdout",
     "output_type": "stream",
     "text": [
      "D:\\NIPS_code\\metrics\\defences\\utils\n"
     ]
    }
   ],
   "source": [
    "cd utils"
   ]
  },
  {
   "cell_type": "code",
   "execution_count": 9,
   "id": "6a6f27a2-4553-4340-bb12-94fbc2e50e15",
   "metadata": {},
   "outputs": [],
   "source": [
    "import defence_evaluate\n",
    "from defence_evaluate import *"
   ]
  },
  {
   "cell_type": "code",
   "execution_count": 10,
   "id": "eb68f326-0cc9-4e96-94d5-5ec02709e597",
   "metadata": {},
   "outputs": [
    {
     "name": "stdout",
     "output_type": "stream",
     "text": [
      "D:\\NIPS_code\\metrics\n"
     ]
    }
   ],
   "source": [
    "cd ..\\.."
   ]
  },
  {
   "cell_type": "code",
   "execution_count": 11,
   "id": "62e92b93-586e-4562-bb97-c814086d656b",
   "metadata": {},
   "outputs": [],
   "source": [
    "from defences.jpeg.run import Defence"
   ]
  },
  {
   "cell_type": "code",
   "execution_count": 12,
   "id": "97bf71d1-65c3-43cd-a054-723cb927ab7e",
   "metadata": {},
   "outputs": [],
   "source": [
    "defence_obj = Defence()"
   ]
  },
  {
   "cell_type": "code",
   "execution_count": 13,
   "id": "473f8528-c47a-4a65-9cc9-1ef683333e90",
   "metadata": {},
   "outputs": [],
   "source": [
    "dump_path = '../res/'\n",
    "batch_size = 1"
   ]
  },
  {
   "cell_type": "code",
   "execution_count": 14,
   "id": "bfbccdb4-3abb-43f3-abcb-9fd8992f6509",
   "metadata": {},
   "outputs": [],
   "source": [
    "attacks = ['cadv', 'fgsm', 'uap']"
   ]
  },
  {
   "cell_type": "code",
   "execution_count": 15,
   "id": "d1e9ede9-abbc-4648-b412-4199a5fe9f6f",
   "metadata": {},
   "outputs": [
    {
     "name": "stderr",
     "output_type": "stream",
     "text": [
      "100%|██████████████████████████████████████████████████████████████████████████████████| 10/10 [01:04<00:00,  6.43s/it]\n",
      "100%|██████████████████████████████████████████████████████████████████████████████████| 10/10 [01:07<00:00,  6.77s/it]\n",
      "100%|██████████████████████████████████████████████████████████████████████████████████| 10/10 [01:01<00:00,  6.12s/it]\n"
     ]
    }
   ],
   "source": [
    "for att in attacks:\n",
    "    cur_dataset = KoniqAttackedDataset(src_dir='../sample_data/noattack/', dest_dir='../sample_data/'+att, mos_path='../sample_data/koniq10k_scores_and_distributions.csv', return_mos=True)\n",
    "    cur_dloader = DataLoader(cur_dataset, batch_size=batch_size, shuffle=False)\n",
    "    df = run(defence=defence_obj, model=model, dataloader=cur_dloader, is_fr=False, device='cpu', dump_path=dump_path+att, dump_freq=500, save_freq=-1, defence_preset=-1, dataset_save_path=None, atk_name='uap')\n",
    "    df[0].to_csv(dump_path+att+'_sample_res.csv')"
   ]
  },
  {
   "cell_type": "code",
   "execution_count": null,
   "id": "25f93722-6a10-4ac4-a0d1-236cb353a993",
   "metadata": {},
   "outputs": [],
   "source": []
  },
  {
   "cell_type": "code",
   "execution_count": null,
   "id": "4cb84182-6b5b-4bc3-8185-d5f768e7417d",
   "metadata": {},
   "outputs": [],
   "source": []
  },
  {
   "cell_type": "code",
   "execution_count": null,
   "id": "9a299cb6-c852-4d49-95d3-d910a939be6b",
   "metadata": {},
   "outputs": [],
   "source": []
  },
  {
   "cell_type": "code",
   "execution_count": null,
   "id": "6cd087fa-b6a1-4ee7-a3a7-5099288e4ae5",
   "metadata": {},
   "outputs": [],
   "source": []
  },
  {
   "cell_type": "code",
   "execution_count": null,
   "id": "03066cd6-42d7-461a-986f-5903bb2a1d61",
   "metadata": {},
   "outputs": [],
   "source": []
  }
 ],
 "metadata": {
  "kernelspec": {
   "display_name": "Python 3 (ipykernel)",
   "language": "python",
   "name": "python3"
  },
  "language_info": {
   "codemirror_mode": {
    "name": "ipython",
    "version": 3
   },
   "file_extension": ".py",
   "mimetype": "text/x-python",
   "name": "python",
   "nbconvert_exporter": "python",
   "pygments_lexer": "ipython3",
   "version": "3.11.6"
  }
 },
 "nbformat": 4,
 "nbformat_minor": 5
}
